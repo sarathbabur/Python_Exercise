{
 "cells": [
  {
   "cell_type": "raw",
   "metadata": {},
   "source": [
    "# Exercise Question 1: Given an input list removes the element at index 4 and add it to the 2nd position and also, at the end of the list"
   ]
  },
  {
   "cell_type": "code",
   "execution_count": 12,
   "metadata": {},
   "outputs": [
    {
     "name": "stdout",
     "output_type": "stream",
     "text": [
      "Original list \t\t\t\t [34, 54, 67, 89, 11, 43, 94]\n",
      "List After removing element at index 4 \t [34, 54, 67, 89, 43, 94]\n",
      "List after Adding element at index 2 \t [34, 54, 11, 67, 89, 43, 94]\n",
      "List after Adding element at last \t [34, 54, 11, 67, 89, 43, 94, 11]\n"
     ]
    }
   ],
   "source": [
    "sampleList = [34, 54, 67, 89, 11, 43, 94]\n",
    "print(\"Original list \\t\\t\\t\\t\", sampleList)\n",
    "\n",
    "removedCell = sampleList.pop(4)\n",
    "print(\"List After removing element at index 4 \\t\", sampleList)\n",
    "\n",
    "sampleList.insert(2, removedCell)\n",
    "print(\"List after Adding element at index 2 \\t\", sampleList)\n",
    "\n",
    "sampleList.append(removedCell)\n",
    "print(\"List after Adding element at last \\t\", sampleList)"
   ]
  },
  {
   "cell_type": "raw",
   "metadata": {},
   "source": [
    "# Exercise Question 2: Given a two list of equal size create a list of unique elements from both the lists into a seperate list"
   ]
  },
  {
   "cell_type": "code",
   "execution_count": 20,
   "metadata": {},
   "outputs": [
    {
     "name": "stdout",
     "output_type": "stream",
     "text": [
      "First List \t\t\t\t [2, 3, 4, 5, 6, 7, 8]\n",
      "Second List \t\t\t\t [4, 9, 16, 25, 36, 49, 64]\n",
      "Before removing duplicates \t\t [2, 3, 4, 5, 6, 7, 8, 4, 9, 16, 25, 36, 49, 64]\n",
      "Unique set after removing duplicates \t {64, 2, 3, 4, 5, 6, 7, 8, 9, 36, 16, 49, 25}\n",
      "Unique list after removing duplicates \t [64, 2, 3, 4, 5, 6, 7, 8, 9, 36, 16, 49, 25]\n"
     ]
    }
   ],
   "source": [
    "firstList = [2, 3, 4, 5, 6, 7, 8]\n",
    "secondList = [4, 9, 16, 25, 36, 49, 64]\n",
    "print(\"First List \\t\\t\\t\\t\", firstList)\n",
    "print(\"Second List \\t\\t\\t\\t\", secondList)\n",
    "\n",
    "firstList.extend(secondList)\n",
    "print(\"Before removing duplicates \\t\\t\", firstList)\n",
    "\n",
    "sampleSet = set(firstList)\n",
    "print(\"Unique set after removing duplicates \\t\", sampleSet)\n",
    "\n",
    "uniqueList = list(sampleSet)\n",
    "print(\"Unique list after removing duplicates \\t\", uniqueList)"
   ]
  },
  {
   "cell_type": "raw",
   "metadata": {},
   "source": [
    "# Exercise Question 3: Remove duplicate from a list and create a tuple and find the minimum and maximum number (Hint: Try Functions Min() and Max() )"
   ]
  },
  {
   "cell_type": "code",
   "execution_count": 31,
   "metadata": {},
   "outputs": [
    {
     "name": "stdout",
     "output_type": "stream",
     "text": [
      "Original List \t\t\t [2, 3, 4, 5, 6, 7, 8, 4, 9, 16, 25, 36, 49, 64]\n",
      "Duplicates removed List \t [64, 2, 3, 4, 5, 6, 7, 8, 9, 36, 16, 49, 25]\n",
      "Converted Tuple \t\t (64, 2, 3, 4, 5, 6, 7, 8, 9, 36, 16, 49, 25)\n",
      "Minimum value in the tuple \t 2\n",
      "Maximum value in the tuple \t 64\n"
     ]
    }
   ],
   "source": [
    "sampleList = [2, 3, 4, 5, 6, 7, 8, 4, 9, 16, 25, 36, 49, 64]\n",
    "print (\"Original List \\t\\t\\t\", sampleList)\n",
    "\n",
    "sampleList=list(set(sampleList))\n",
    "print (\"Duplicates removed List \\t\", sampleList)\n",
    "\n",
    "convertedTuple = tuple(sampleList)\n",
    "print(\"Converted Tuple \\t\\t\", convertedTuple)\n",
    "\n",
    "print(\"Minimum value in the tuple \\t\", min(convertedTuple))\n",
    "print(\"Maximum value in the tuple \\t\", max(convertedTuple))"
   ]
  },
  {
   "cell_type": "raw",
   "metadata": {},
   "source": [
    "# Exercise Question 4: Display the each word in the string Count the number of words in a string and display it (Including the white spaces)"
   ]
  },
  {
   "cell_type": "code",
   "execution_count": 41,
   "metadata": {},
   "outputs": [
    {
     "name": "stdout",
     "output_type": "stream",
     "text": [
      "Given word: \t\t\t\t This is my first excercise class in Python!\n",
      "Printing each chanracter in word: \t T h i s   i s   m y   f i r s t   e x c e r c i s e   c l a s s   i n   P y t h o n !\n",
      "Count of word including space: \t\t 43\n"
     ]
    }
   ],
   "source": [
    "sampleWord = \"This is my first excercise class in Python!\"\n",
    "print(\"Given word: \\t\\t\\t\\t\", sampleWord)\n",
    "\n",
    "listWord = list(sampleWord)\n",
    "print(\"Printing each chanracter in word: \\t\", *listWord)\n",
    "\n",
    "print(\"Count of word including space: \\t\\t\", len(sampleWord))"
   ]
  },
  {
   "cell_type": "raw",
   "metadata": {},
   "source": [
    "# Exercise Question 5: Write a Python program to access dictionary keys element by index. i.e. Use indexing methods to print the first key"
   ]
  },
  {
   "cell_type": "code",
   "execution_count": 46,
   "metadata": {},
   "outputs": [
    {
     "name": "stdout",
     "output_type": "stream",
     "text": [
      "Given sample dictionary: \t {'Tamil': 80, 'English': 75}\n",
      "Print dictionary first key element using indexing:  Tamil\n"
     ]
    }
   ],
   "source": [
    "subjectScores = {\"Tamil\":80, \"English\":75}\n",
    "print(\"Given sample dictionary: \\t\", subjectScores)\n",
    "\n",
    "print(\"Print dictionary first key element using indexing: \", list(subjectScores)[0])"
   ]
  }
 ],
 "metadata": {
  "kernelspec": {
   "display_name": "Python 3",
   "language": "python",
   "name": "python3"
  },
  "language_info": {
   "codemirror_mode": {
    "name": "ipython",
    "version": 3
   },
   "file_extension": ".py",
   "mimetype": "text/x-python",
   "name": "python",
   "nbconvert_exporter": "python",
   "pygments_lexer": "ipython3",
   "version": "3.7.6"
  }
 },
 "nbformat": 4,
 "nbformat_minor": 4
}
