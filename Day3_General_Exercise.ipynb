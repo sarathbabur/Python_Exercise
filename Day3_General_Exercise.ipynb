{
 "cells": [
  {
   "cell_type": "markdown",
   "metadata": {},
   "source": [
    "1. Write a Python program to find those numbers which are divisible by 7 and multiple of 5, between 1500 and 2700 (both included)."
   ]
  },
  {
   "cell_type": "code",
   "execution_count": 36,
   "metadata": {},
   "outputs": [
    {
     "name": "stdout",
     "output_type": "stream",
     "text": [
      "[1505, 1540, 1575, 1610, 1645, 1680, 1715, 1750, 1785, 1820, 1855, 1890, 1925, 1960, 1995, 2030, 2065, 2100, 2135, 2170, 2205, 2240, 2275, 2310, 2345, 2380, 2415, 2450, 2485, 2520, 2555, 2590, 2625, 2660, 2695]\n"
     ]
    }
   ],
   "source": [
    "num = 1500\n",
    "output = []\n",
    "\n",
    "while(num <= 2700):\n",
    "        if (num%7 == 0):\n",
    "           output.append(num)\n",
    "        num = num + 5\n",
    "print(output)"
   ]
  },
  {
   "cell_type": "markdown",
   "metadata": {},
   "source": [
    "2. Write a Python program to construct the following pattern, using a nested for loop"
   ]
  },
  {
   "cell_type": "code",
   "execution_count": 31,
   "metadata": {},
   "outputs": [
    {
     "name": "stdout",
     "output_type": "stream",
     "text": [
      "Enter the pattern maimum count: -10\n",
      "\n",
      " *\n",
      " * *\n",
      " * * *\n",
      " * * * *\n",
      " * * * * *\n",
      " * * * * * *\n",
      " * * * * * * *\n",
      " * * * * * * * *\n",
      " * * * * * * * * *\n",
      " * * * * * * * * * *\n",
      " * * * * * * * * *\n",
      " * * * * * * * *\n",
      " * * * * * * *\n",
      " * * * * * *\n",
      " * * * * *\n",
      " * * * *\n",
      " * * *\n",
      " * *\n",
      " *\n",
      "\n"
     ]
    }
   ],
   "source": [
    "maxNum = int(input(\"Enter the pattern maimum count: -\"))\n",
    "\n",
    "for i in range(0, maxNum+1, 1):\n",
    "    pattern = ''\n",
    "    for j in range(0, i, 1):\n",
    "        pattern = pattern + \" *\"\n",
    "    print(pattern)\n",
    "    \n",
    "for i in range(maxNum, 0, -1):\n",
    "    pattern = ''\n",
    "    for j in range(1, i, 1):\n",
    "        pattern = pattern + \" *\"\n",
    "    print(pattern)    \n",
    "        "
   ]
  },
  {
   "cell_type": "markdown",
   "metadata": {},
   "source": [
    "3. Write a Python program to count the number of even and odd numbers from a series of numbers"
   ]
  },
  {
   "cell_type": "code",
   "execution_count": 7,
   "metadata": {},
   "outputs": [
    {
     "name": "stdout",
     "output_type": "stream",
     "text": [
      "Given series of numbers:  [11, 12, 13, 14, 15, 16, 17, 18, 19, 20]\n",
      "Number of odd numbers: \t\t 5\n",
      "Number of even numbers: \t 5\n"
     ]
    }
   ],
   "source": [
    "sampleList = [11,12,13,14,15,16,17,18,19,20]\n",
    "print (\"Given series of numbers: \", sampleList)\n",
    "\n",
    "evenCount = 0\n",
    "oddCount = 0\n",
    "\n",
    "for num in sampleList:\n",
    "    if (int(num)%2 == 0):\n",
    "        evenCount += 1\n",
    "    else:\n",
    "        oddCount += 1\n",
    "        \n",
    "print(\"Number of odd numbers: \\t\\t\", oddCount)\n",
    "print(\"Number of even numbers: \\t\", evenCount)\n",
    "    \n",
    "    \n",
    "\n"
   ]
  },
  {
   "cell_type": "markdown",
   "metadata": {},
   "source": [
    "4. Write a Python program to find numbers between 100 and 400 (both included) where each digit of a number is an even number. The numbers obtained should be printed in a comma-separated sequence."
   ]
  },
  {
   "cell_type": "code",
   "execution_count": 23,
   "metadata": {},
   "outputs": [
    {
     "name": "stdout",
     "output_type": "stream",
     "text": [
      "[200, 202, 204, 206, 208, 220, 222, 224, 226, 228, 240, 242, 244, 246, 248, 260, 262, 264, 266, 268, 280, 282, 284, 286, 288, 400]\n"
     ]
    }
   ],
   "source": [
    "outputList = []\n",
    "digitList = []\n",
    "\n",
    "for digit in range(100, 400+1, 1):\n",
    "    outputList.append(digit)\n",
    "    digitList = list(str(digit))\n",
    "    for i in digitList:\n",
    "        if (int(i)%2 != 0):\n",
    "            outputList.remove(digit)\n",
    "            break\n",
    "print(outputList)"
   ]
  },
  {
   "cell_type": "markdown",
   "metadata": {},
   "source": [
    "5. Write a Python program to calculate a dog's age in dog's years. Go to the editor"
   ]
  },
  {
   "cell_type": "code",
   "execution_count": null,
   "metadata": {},
   "outputs": [],
   "source": []
  },
  {
   "cell_type": "markdown",
   "metadata": {},
   "source": [
    "6. Write a Python function to find the Max of three numbers."
   ]
  },
  {
   "cell_type": "code",
   "execution_count": 25,
   "metadata": {},
   "outputs": [
    {
     "name": "stdout",
     "output_type": "stream",
     "text": [
      "Enter the first number: -1\n",
      "Enter the second number: --5\n",
      "Enter the third number: -6\n",
      "The largest of three numbers is: 6\n"
     ]
    }
   ],
   "source": [
    "num1 = int(input(\"Enter the first number: -\"))\n",
    "num2 = int(input(\"Enter the second number: -\"))\n",
    "num3 = int(input(\"Enter the third number: -\"))\n",
    "    \n",
    "print(\"The largest of three numbers is:\", max(num1, num2, num3))"
   ]
  },
  {
   "cell_type": "markdown",
   "metadata": {},
   "source": [
    "7. Write a Python function that takes a number as a parameter and check the number is prime or not."
   ]
  },
  {
   "cell_type": "code",
   "execution_count": 49,
   "metadata": {},
   "outputs": [
    {
     "name": "stdout",
     "output_type": "stream",
     "text": [
      "Enter the number2\n",
      "The entered number:{} is a prime number\n"
     ]
    }
   ],
   "source": [
    "# Using recursion\n",
    "\n",
    "def findDivisible(num, divisible):\n",
    "    if (divisible == 1):\n",
    "        return \"true\"\n",
    "    elif (num%divisible == 0):\n",
    "        return \"false\"\n",
    "    else:\n",
    "        return findDivisible(num, divisible-1)\n",
    "\n",
    "num = int(input(\"Enter the number\"))\n",
    "if (num==0 or num==1):\n",
    "    print(\"The entered number:{} is not a prime number\")\n",
    "else:    \n",
    "    result = findDivisible(num, num-1)\n",
    "    if (result == \"true\"):\n",
    "        print(\"The entered number:{} is a prime number\")\n",
    "    else:\n",
    "        print(\"The entered number:{} is not a prime number\")"
   ]
  },
  {
   "cell_type": "code",
   "execution_count": null,
   "metadata": {},
   "outputs": [],
   "source": []
  },
  {
   "cell_type": "code",
   "execution_count": null,
   "metadata": {},
   "outputs": [],
   "source": []
  },
  {
   "cell_type": "markdown",
   "metadata": {},
   "source": [
    "9. Write a Python program to reverse a string."
   ]
  },
  {
   "cell_type": "code",
   "execution_count": 34,
   "metadata": {},
   "outputs": [
    {
     "name": "stdout",
     "output_type": "stream",
     "text": [
      "Enter any stringsarath babu\n",
      "Input String:  sarath babu\n",
      "loopSize 5\n",
      "['u', 'b', 'a', 'b', ' ', 'h', 't', 'a', 'r', 'a', 's']\n"
     ]
    }
   ],
   "source": [
    "string = input(\"Enter any string\")\n",
    "print(\"Input String: \", string)\n",
    "\n",
    "inputList = list(string)\n",
    "length = len(inputList)\n",
    "loopSize = int(length/2)\n",
    "print(\"loopSize\", loopSize)\n",
    "length = length-1\n",
    "\n",
    "for i in range(0, loopSize, 1):\n",
    "    temp = inputList[i]\n",
    "    inputList[i] = inputList[length-i]\n",
    "    inputList[length-i] = temp\n",
    "    \n",
    "print(str(inputList))\n",
    "    "
   ]
  },
  {
   "cell_type": "code",
   "execution_count": null,
   "metadata": {},
   "outputs": [],
   "source": []
  }
 ],
 "metadata": {
  "kernelspec": {
   "display_name": "Python 3",
   "language": "python",
   "name": "python3"
  },
  "language_info": {
   "codemirror_mode": {
    "name": "ipython",
    "version": 3
   },
   "file_extension": ".py",
   "mimetype": "text/x-python",
   "name": "python",
   "nbconvert_exporter": "python",
   "pygments_lexer": "ipython3",
   "version": "3.7.6"
  }
 },
 "nbformat": 4,
 "nbformat_minor": 4
}
